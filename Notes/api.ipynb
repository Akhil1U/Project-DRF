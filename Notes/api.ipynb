{
 "cells": [
  {
   "cell_type": "markdown",
   "id": "124c75ef",
   "metadata": {},
   "source": [
    "# API\n",
    "\n",
    "Application programming interface"
   ]
  },
  {
   "cell_type": "markdown",
   "id": "87230985",
   "metadata": {},
   "source": [
    "## Major types of apis, here major type of api is below:\n",
    "\n",
    "1. public API (oepn api)  - publicaly available anyone can use this to access data and funcitonality.   \n",
    "\n",
    "2. private API (Internal API) - only for internal system use. data formate can be nagotiated, collaboration of data between different teams and department within organization.   \n",
    "\n",
    "3. composite API - compbine different data and services. improve performance and speed up execution process ~ provide set of related functionality using single endpoint.   \n",
    "\n",
    "\n",
    "4. Partner API - need license or permission to access api. provided by third party companies to allow access of their data, functioality, ex. amazon api, openwheather api .. "
   ]
  },
  {
   "cell_type": "markdown",
   "id": "8ce5f71e",
   "metadata": {},
   "source": [
    "## Technical Types of APIs (API Protocols ):\n",
    "\n",
    "1. REST API\n",
    "2. SOUP API\n",
    "3. Graph QL API\n",
    "4. gRPC API"
   ]
  },
  {
   "cell_type": "markdown",
   "id": "5566c1a2",
   "metadata": {},
   "source": [
    "### 1. REST API:   \n",
    "\n",
    "===> REspresentational State Transfer \n",
    "\n",
    "REST APIs are designed to make server-side data readily available by representing it in simple formats such as JSON and XML. it was  released in 2000 after being introduced in an academic thesis by Roy Fielding.  This particular type of API adheres to six specific architectural constraints:   \n",
    "  \n",
    "A uniform interface  \n",
    "Completely stateless    \n",
    "Native caching   \n",
    "Client-server architecture  \n",
    "A layered system    \n",
    "\n",
    "The ability to provide executable code to the client    \n",
    "   \n",
    "   \n",
    "#### Pros   \n",
    "   \n",
    "--> Https methods : get, post, put, patch, option, delete ~ usefull for CRUD opeation.   \n",
    "--> client & server decoupled form each other - allow abstration layer to maintain security and    \n",
    "\n",
    "#### Cons  \n",
    "\n",
    "--> rest offen return more data than needed   \n",
    "--> since increase the size of repsonce, whihc can - slow bandwidth, slow down network commumnication.   \n",
    "\n",
    "--> REST does't enforce a strinct format for request and responses.\n",
    "---> e.g., if you request user detail with id than it could send only username, email only, there is not any formate to responds, \n",
    "\n",
    "--> basically sometime you will get mote than requested and sometime less than requested.\n",
    "\n",
    "\n",
    "\n",
    "\n"
   ]
  },
  {
   "cell_type": "markdown",
   "id": "0ad82e0d",
   "metadata": {},
   "source": [
    "### GraphQL API\n",
    "\n",
    "graph ql was developed in response to REST APIs with idea that you could execute precise syntax that retrieves only what is needed.\n",
    "\n",
    "\n",
    "#### Pros   \n",
    "\n",
    "---> api queries are transperent and well documeted.\n",
    "---> precise results, detailed error message, flexible permissions, \n",
    "\n",
    "---> when comes to data structuring, where graphql gives users significant flexibility.\n",
    "\n",
    "#### cons   \n",
    "\n",
    "---> \"Performance can suffer with GraphQL if you have too many nested fields in any one request.\" 🧠 Think of it like this: You order a custom sandwich with 25 ingredients — the kitchen takes forever   because it has to fetch each one.     \n",
    "\n",
    "---> \"It also doesn’t reuse standard HTTP caching semantics...\" REST uses HTTP methods like GET, which can be easily cached by browsers and CDNs. but GraphQL usually uses a single endpoint (POST /graphql)     \n",
    "\n",
    "---> steep learning curve"
   ]
  },
  {
   "cell_type": "markdown",
   "id": "86054523",
   "metadata": {},
   "source": [
    "### gRPC API   \n",
    "\n",
    "stands for Remote Procedure Call and g for most advanced version developed by google.\n",
    "\n",
    "\n",
    "---> useful for use remote procedure/function - we send args to function in form of(like JSON, XML, or binary) via this gRPC api. called serialization.\n",
    "\n",
    "---> message may includes info like: auth tokens, timestaps, request id, error handling instruciton\n",
    "\n",
    "---> send message to server and server deserializes message to extract which function to run. than server execute that funciton using given input via API , result back to clint - serialize reuslt. \n",
    "\n",
    "\n",
    "#### Pros   \n",
    "\n",
    "---> \"It’s straightforward, using GET to fetch information and POST for everything else.\"\n",
    "\n",
    "---> gRPC uses HTTP/2 and binary serialization (usually with Protocol Buffers, or Protobuf).\n",
    "\n",
    "---> \"Functions are easy to add...infinitely configurable.\"   \n",
    "\n",
    "---> lightweight payloads- extremely fast due to binary data (smaller than json, xml), support HTTP/2 version, \n",
    "\n",
    "--> used for high volume calls e.g, internal microservices or IOT\n",
    "\n",
    "===? 🧠 Example: Kubernetes and Docker heavily use gRPC internally for orchestration tasks.\n",
    "\n",
    "#### Cons  \n",
    "\n",
    "---> That makes it harder to reuse across different platforms or integrate with other systems (like frontends or third-party apps).   \n",
    "\n",
    "---> no abstraction layer, can reveals actual system function.\n",
    "\n",
    "\n"
   ]
  },
  {
   "cell_type": "markdown",
   "id": "c05c06ea",
   "metadata": {},
   "source": [
    "### SOUP API\n",
    "\n",
    "====> Simple Object Access Protocol\n",
    "\n",
    "Soup APIs are formatted as XML files and they extremely common web communication protocols. developed late 1990s.\n",
    "\n",
    "\n",
    "#### Pros\n",
    "\n",
    "--> platform and programming independent. 🧠 Example: A Java-based client can send a SOAP request to a .NET server with no issues.    \n",
    "  \n",
    "--> standard method of repsonse formate like strinct format of XML.\n",
    "    \n",
    "--> built in ERROR handling, 🧠 Example: If something goes wrong, the server can return a SOAP Fault with structured info about the problem.    \n",
    "   \n",
    "---> support advanced security features (WS - security)    \n",
    "---> includes encryption, digital signature, authentication  ideal for banking, insurance, healthcare    \n",
    "\n",
    "\n",
    "#### Cons\n",
    "\n",
    "---> messages are overly structured and use lots of XML, even for simple task\n",
    "\n",
    "---> XML takes up more space than json or other formate so slow data, speed, need processing power\n",
    "\n",
    "---> feels outdated\n"
   ]
  },
  {
   "cell_type": "markdown",
   "id": "424400a2",
   "metadata": {},
   "source": []
  }
 ],
 "metadata": {
  "kernelspec": {
   "display_name": "env",
   "language": "python",
   "name": "python3"
  },
  "language_info": {
   "name": "python",
   "version": "3.13.5"
  }
 },
 "nbformat": 4,
 "nbformat_minor": 5
}
