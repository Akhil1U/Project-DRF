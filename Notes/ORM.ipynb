{
 "cells": [
  {
   "cell_type": "markdown",
   "id": "bf6a8194",
   "metadata": {},
   "source": [
    "to work with model, add and fetch data from db programmaticaly"
   ]
  },
  {
   "cell_type": "markdown",
   "id": "ac68259e",
   "metadata": {},
   "source": [
    "make script file in django app , insde that add one file with .py than dowmload django-extensions than run command in terminal.\n",
    "python manage.py runscript file_name.py\n",
    "\n",
    "inside that file you can perfom any opearation which you can perform in normal file  \n",
    "\n",
    "below example to fetch data from db it will print some data not whole data\n",
    "\n"
   ]
  },
  {
   "cell_type": "code",
   "execution_count": null,
   "id": "00a286cd",
   "metadata": {
    "vscode": {
     "languageId": "plaintext"
    }
   },
   "outputs": [],
   "source": [
    "restaurant = Restaurant.objects.all()[0] # print all objects from restaurant module use object.first() $ use object.all()[2] to get 3rd object to print particular object\n",
    "    print(restaurant) \n",
    "    print(connection.queries) # return sql for queryset whihc is given by above print"
   ]
  },
  {
   "cell_type": "markdown",
   "id": "87006cdf",
   "metadata": {},
   "source": [
    "for print all row use : object.all() \n",
    "for see sql for particular opeation you perfomed use connection from db.utils as above code snippet.\n",
    "\n",
    "to see whole sql there is cmd : python manage.py shell_plus --print-sql, you can acces after install django-extension\n",
    "\n",
    "---> this will open shell to execute commands"
   ]
  },
  {
   "cell_type": "markdown",
   "id": "46ce11fe",
   "metadata": {},
   "source": [
    "to find numer of row in databse we can use \n",
    "\n",
    "object.count()\n",
    "this will return interger of exact number of rows\n",
    "\n",
    "objject.last() for last row"
   ]
  },
  {
   "cell_type": "code",
   "execution_count": null,
   "id": "2d197b1e",
   "metadata": {
    "vscode": {
     "languageId": "plaintext"
    }
   },
   "outputs": [],
   "source": [
    "from firstdrf.models import Restaurant\n",
    "from django.utils import timezone\n",
    "from django.db import connection\n",
    "def run():\n",
    "    # restaurant = Restaurant()\n",
    "    # restaurant.name = \"My italian restaurant\"\n",
    "    # restaurant.latitude = 50.2\n",
    "    # restaurant.longitude = 20.1\n",
    "    # restaurant.date_opened = timezone.now()\n",
    "    # restaurant.Restaurant_type = restaurant.TypeChoices.ITALIAN\n",
    "\n",
    "    # Restaurant.objects.create(\n",
    "    #     name = \"Pizza Shop\",\n",
    "    #     date_opened = timezone.now(),\n",
    "    #     Restaurant_type = Restaurant.TypeChoices.ITALIAN,\n",
    "    #     latitude = 50.36,\n",
    "    #     longitude = 45.51\n",
    "    # )\n",
    "\n",
    "    restaurant = Restaurant.objects.all() # print all objects from restaurant module use object.first() $ use object.all()[2] to get 3rd object to print particular object\n",
    "    print(restaurant) \n",
    "\n",
    "    # print(connection.queries) # return sql for queryset whihc is given by above print\n",
    "    "
   ]
  },
  {
   "cell_type": "markdown",
   "id": "0d7ae922",
   "metadata": {},
   "source": [
    "restaurant = Restaurant.objects.first()\n",
    "    user = User.objects.first()\n",
    "    \n",
    "    Rating.objects.create(\n",
    "        Restaurant = restaurant, User = user, Rating = 3)"
   ]
  },
  {
   "cell_type": "markdown",
   "id": "c5988d7f",
   "metadata": {},
   "source": [
    "Filter in object.all()\n",
    "  object has method called as filter\n",
    "\n",
    "  use  like this\n",
    "\n",
    "  object.filter() # here we have rating field so \n",
    "\n",
    "  object.filter(rating = 5) this will return all rating if rating is 5."
   ]
  },
  {
   "cell_type": "markdown",
   "id": "f5d94b31",
   "metadata": {},
   "source": [
    "django orm lookups \n",
    "\n",
    "object.filter(rating__gte = 3) which mean grater than 3\n",
    "search more for this type of lookups\n",
    "\n",
    "also use object.excludes(rating__lte) which mean it execute not less than 3 >>>> use connection.queries to see that sql exactley performed by django."
   ]
  },
  {
   "cell_type": "markdown",
   "id": "ecdce67e",
   "metadata": {},
   "source": [
    "### update\n"
   ]
  },
  {
   "cell_type": "markdown",
   "id": "e34be0ec",
   "metadata": {},
   "source": []
  },
  {
   "cell_type": "code",
   "execution_count": null,
   "id": "01c61d2f",
   "metadata": {
    "vscode": {
     "languageId": "plaintext"
    }
   },
   "outputs": [],
   "source": [
    "below code used to update value of table row in orm , here save function save existing operation"
   ]
  },
  {
   "cell_type": "code",
   "execution_count": null,
   "id": "53bc8fb3",
   "metadata": {
    "vscode": {
     "languageId": "plaintext"
    }
   },
   "outputs": [],
   "source": [
    "from pprint import pprint\n",
    "def run():\n",
    "    restaurant = Restaurant.objects.first()\n",
    "    print(restaurant.name)\n",
    "\n",
    "    restaurant.name = \"My italian Restaurant\"\n",
    "    restaurant.save()\n",
    "    pprint(connection.queries)"
   ]
  },
  {
   "cell_type": "markdown",
   "id": "77af2742",
   "metadata": {},
   "source": [
    "#### refer this \n",
    " (env) F:\\Akhil\\DRF\\tutorial>python manage.py runscript orm_scripts               \n",
    "jhjdkkjgv               \n",
    "[{'sql': 'SELECT \"firstdrf_restaurant\".\"id\", \"firstdrf_restaurant\".\"name\", '            \n",
    "         '\"firstdrf_restaurant\".\"website\", '               \n",
    "         '\"firstdrf_restaurant\".\"date_opened\", '                \n",
    "         '\"firstdrf_restaurant\".\"latitude\", \"firstdrf_restaurant\".\"longitude\", '              \n",
    "         '\"firstdrf_restaurant\".\"Restaurant_type\" FROM \"firstdrf_restaurant\" '               \n",
    "         'ORDER BY \"firstdrf_restaurant\".\"id\" ASC LIMIT 1',             \n",
    "  'time': '0.000'},    \n",
    "\n",
    "  jkfhvjkdvnjdvfdk\n",
    "\n",
    " {'sql': 'UPDATE \"firstdrf_restaurant\" SET \"name\" = \\'My italian Restaurant\\', '            \n",
    "         '\"website\" = \\'\\', \"date_opened\" = \\'2025-08-28\\', \"latitude\" = 50.2, '       \n",
    "         '\"longitude\" = 20.1, \"Restaurant_type\" = \\'IT\\' WHERE '   \n",
    "         '\"firstdrf_restaurant\".\"id\" = 1',              \n",
    "  'time': '0.047'}]        "
   ]
  },
  {
   "cell_type": "markdown",
   "id": "8492f875",
   "metadata": {},
   "source": [
    "### get_or_create method"
   ]
  }
 ],
 "metadata": {
  "language_info": {
   "name": "python"
  }
 },
 "nbformat": 4,
 "nbformat_minor": 5
}
