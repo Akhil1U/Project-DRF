{
 "cells": [
  {
   "cell_type": "markdown",
   "id": "39ca8d23",
   "metadata": {},
   "source": [
    "# Djanog Rest Framework"
   ]
  },
  {
   "cell_type": "markdown",
   "id": "6e72401e",
   "metadata": {},
   "source": [
    "### 🧭 Architectural Flow (How it works)   \n",
    "   \n",
    "Client sends a request to api/books/.                             \n",
    "             \n",
    "Router routes the request to the correct ViewSet method.                  \n",
    "                \n",
    "ViewSet fetches data from the Model.                  \n",
    "             \n",
    "Serializer converts the model to JSON.            \n",
    "                           \n",
    "JSON response is sent back to the client.        "
   ]
  },
  {
   "cell_type": "markdown",
   "id": "61854c83",
   "metadata": {},
   "source": [
    "### 📌 Summary of Key Components       \n",
    "\n",
    "Component-----------------------Purpose                      \n",
    "\n",
    "Model---------------------------Defines data structure (tables)     \n",
    "\n",
    "Serializer----------------------Converts data to/from JSON      \n",
    "\n",
    "View/ViewSet--------------------Handles business logic & routes    \n",
    "\n",
    "Router/URLConf------------------Maps URLs to views            \n",
    "\n",
    "Authentication/Permissions------Controls access & security    \n",
    "\n",
    "Settings------------------------Configures DRF behavior globally       "
   ]
  }
 ],
 "metadata": {
  "language_info": {
   "name": "python"
  }
 },
 "nbformat": 4,
 "nbformat_minor": 5
}
